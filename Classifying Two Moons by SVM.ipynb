{
 "cells": [
  {
   "cell_type": "markdown",
   "metadata": {},
   "source": [
    "# CSIT456 Lab 4: Classifying Two Moons by SVM\n",
    "\n",
    "\n",
    "## Name:"
   ]
  },
  {
   "cell_type": "code",
   "execution_count": 1,
   "metadata": {},
   "outputs": [],
   "source": [
    "import numpy as np\n",
    "import pandas as pd\n",
    "import matplotlib.pyplot as plt\n",
    "from matplotlib import colors\n",
    "import seaborn as sns\n"
   ]
  },
  {
   "cell_type": "markdown",
   "metadata": {},
   "source": [
    "## About the data set\n",
    "Let's consider a synthetic dataset in the shape of \"two moons\". Here, each sample has two pieces of information: \n",
    "* the *features*, denoted by $x_i$, which are just a two-dimensional coordinate and \n",
    "* a *target*, denoted by $y_i$, which is either 0 or 1. "
   ]
  },
  {
   "cell_type": "code",
   "execution_count": 2,
   "metadata": {},
   "outputs": [
    {
     "name": "stdout",
     "output_type": "stream",
     "text": [
      "<class 'numpy.ndarray'> <class 'numpy.ndarray'>\n",
      "(500, 2) (500,)\n"
     ]
    }
   ],
   "source": [
    "from sklearn.datasets import make_moons\n",
    "# there are two features contained in X and the labels are contained in y\n",
    "X,y = make_moons(n_samples=500,random_state=1,noise=0.3)\n",
    "\n",
    "# X is a 500x2 numpy.ndarray containing the coordinates for each sample\n",
    "# y is a 500x1 numpy.ndarray containing the class for each sample\n",
    "print(type(X), type(y)) \n",
    "print(np.shape(X), np.shape(y))\n",
    "\n"
   ]
  },
  {
   "cell_type": "code",
   "execution_count": 3,
   "metadata": {},
   "outputs": [
    {
     "data": {
      "text/plain": [
       "array([[ 5.03164639e-01,  1.11355590e-01],\n",
       "       [ 1.06597837e+00, -6.30355466e-01],\n",
       "       [ 9.56633766e-01,  5.81996374e-01],\n",
       "       [ 3.39612025e-01,  4.07139370e-01],\n",
       "       [ 2.17952333e+00, -8.48818137e-02],\n",
       "       [ 2.00520942e+00,  7.81797600e-01],\n",
       "       [ 1.25317762e-01, -1.49257311e-01],\n",
       "       [ 1.06990641e+00,  3.64477526e-01],\n",
       "       [-7.63910989e-01, -6.13639600e-01],\n",
       "       [ 5.56788708e-01,  8.81050101e-01],\n",
       "       [ 7.06531007e-01, -1.22914454e-01],\n",
       "       [-2.23675836e-01,  8.20933232e-01],\n",
       "       [ 8.02084441e-01,  1.31935154e+00],\n",
       "       [ 5.99697409e-01,  9.04137864e-01],\n",
       "       [ 4.83965775e-01,  4.76612498e-02],\n",
       "       [-1.28185109e+00, -2.03686400e-01],\n",
       "       [ 1.74061966e+00,  1.28276289e-01],\n",
       "       [ 8.82697316e-02, -4.99550577e-01],\n",
       "       [-4.91607214e-01,  7.53208168e-01],\n",
       "       [-7.63499067e-02,  1.03020021e+00],\n",
       "       [ 2.29259879e-01, -8.38510571e-02],\n",
       "       [ 8.16961482e-01, -2.84858815e-01],\n",
       "       [ 2.49627554e-01, -7.73340129e-01],\n",
       "       [ 1.99951432e+00,  3.11557403e-02],\n",
       "       [ 7.28208883e-01,  7.64027383e-01],\n",
       "       [ 1.20875534e+00, -7.53286892e-01],\n",
       "       [ 1.03719426e+00, -6.61308761e-02],\n",
       "       [ 5.02642626e-01, -7.00741074e-01],\n",
       "       [-5.70932860e-01,  5.63250832e-01],\n",
       "       [-9.46555791e-01,  1.13139597e+00],\n",
       "       [-3.00187893e-01,  6.25912450e-01],\n",
       "       [ 2.02293121e-01, -2.99411341e-01],\n",
       "       [-4.72508245e-01,  1.11262420e-01],\n",
       "       [ 1.67657956e+00, -1.92962068e-02],\n",
       "       [ 7.91880823e-01, -1.15332553e-01],\n",
       "       [ 4.43468738e-01,  1.27935849e+00],\n",
       "       [ 5.41522689e-01,  7.18683384e-01],\n",
       "       [ 1.11682107e+00,  1.46642752e-02],\n",
       "       [ 1.32581823e+00, -4.34557756e-01],\n",
       "       [ 1.35700486e+00, -2.22622578e-01],\n",
       "       [ 3.34726862e-01, -2.88368313e-01],\n",
       "       [ 1.93400061e+00,  7.25956388e-02],\n",
       "       [ 1.65967060e+00,  1.78964932e-01],\n",
       "       [-6.21012805e-01,  2.18336456e-01],\n",
       "       [ 4.75695159e-01, -4.79980825e-02],\n",
       "       [ 3.33798652e-01, -2.76783636e-01],\n",
       "       [ 4.86546476e-01,  7.47799524e-02],\n",
       "       [ 1.65380795e+00,  1.81514357e-01],\n",
       "       [ 1.51115997e+00, -2.39330517e-01],\n",
       "       [ 8.49986250e-01,  1.26215146e+00],\n",
       "       [-1.78265403e-01,  8.70436378e-01],\n",
       "       [-5.92296304e-01,  9.65559409e-01],\n",
       "       [ 1.00035491e+00,  4.92336150e-01],\n",
       "       [ 1.39966456e+00, -2.50270198e-01],\n",
       "       [ 1.98013337e+00, -2.26599308e-01],\n",
       "       [ 6.62543746e-01,  1.24631627e-01],\n",
       "       [ 2.30246468e-01, -2.53960763e-01],\n",
       "       [ 3.95994407e-01, -1.91977693e-01],\n",
       "       [ 9.89013874e-01,  5.16082224e-01],\n",
       "       [ 8.68781743e-01, -5.58541619e-01],\n",
       "       [ 3.09534929e-02, -4.48025615e-01],\n",
       "       [ 4.35499122e-01,  9.35116803e-01],\n",
       "       [ 1.20098775e-01,  5.21402346e-01],\n",
       "       [ 5.07002690e-01, -4.67644846e-01],\n",
       "       [ 1.18753208e+00, -2.03004562e-01],\n",
       "       [ 7.70469227e-01, -6.20382997e-01],\n",
       "       [ 1.10686400e+00, -7.82756911e-01],\n",
       "       [ 2.72433391e-01, -5.22578505e-01],\n",
       "       [-2.69273784e-01,  1.98460943e-02],\n",
       "       [-4.73516351e-01,  1.20413521e+00],\n",
       "       [-6.57709323e-02, -5.03177517e-01],\n",
       "       [ 2.23233177e-01, -1.46398527e-01],\n",
       "       [-6.24552614e-02,  1.00239017e+00],\n",
       "       [ 8.98932798e-01,  6.88560219e-02],\n",
       "       [ 7.55489760e-02,  7.23667035e-01],\n",
       "       [ 2.08856956e+00,  4.56556635e-01],\n",
       "       [ 1.73023922e+00,  6.34445357e-01],\n",
       "       [ 1.87661578e+00, -7.89534016e-01],\n",
       "       [-3.02901540e-02,  6.63742236e-01],\n",
       "       [-2.73513874e-01,  8.62459423e-01],\n",
       "       [-1.56812254e-01,  4.20510549e-01],\n",
       "       [-1.15139473e-01,  1.19139778e+00],\n",
       "       [-1.14244881e+00,  1.31832310e+00],\n",
       "       [ 1.02005291e+00, -7.64518963e-02],\n",
       "       [-5.89551328e-01,  6.63634483e-01],\n",
       "       [-2.94634992e-01,  1.43775918e-01],\n",
       "       [ 1.66487532e+00,  1.27183309e-01],\n",
       "       [ 4.02162595e-01, -1.44609840e-02],\n",
       "       [ 1.96957873e+00,  6.21607780e-01],\n",
       "       [ 2.09824639e+00,  6.70570135e-01],\n",
       "       [ 2.04428825e+00,  1.27934761e-01],\n",
       "       [ 1.88064537e+00,  4.44393279e-02],\n",
       "       [ 2.11285073e+00, -4.35903089e-02],\n",
       "       [ 1.40046562e+00,  2.16129468e-02],\n",
       "       [ 1.42313996e+00, -7.85062551e-01],\n",
       "       [ 1.05504818e+00,  5.48992984e-01],\n",
       "       [-9.98348612e-01,  4.09863288e-01],\n",
       "       [-3.16445832e-02,  1.12634039e+00],\n",
       "       [-1.63628075e+00,  4.87482009e-01],\n",
       "       [ 3.05227370e-01,  9.70364824e-01],\n",
       "       [-9.38689716e-01, -2.59026888e-01],\n",
       "       [ 1.70240426e+00, -7.28214448e-01],\n",
       "       [ 1.71752746e+00,  3.77662407e-01],\n",
       "       [ 8.13157615e-01,  8.49991392e-01],\n",
       "       [ 7.99835475e-01, -3.43259233e-01],\n",
       "       [ 8.20846035e-01,  1.32039912e+00],\n",
       "       [ 1.13021318e+00,  1.45029478e-01],\n",
       "       [-1.01367295e+00, -2.04998537e-01],\n",
       "       [-1.49680318e-01,  4.13167649e-01],\n",
       "       [ 2.38115761e-01,  7.68209650e-01],\n",
       "       [ 4.81108771e-01, -5.27540859e-03],\n",
       "       [ 1.23561547e+00, -2.54628968e-01],\n",
       "       [ 9.94687613e-01, -5.00044342e-01],\n",
       "       [ 1.87187989e+00,  3.20825486e-01],\n",
       "       [ 2.73684120e-01,  3.89854769e-01],\n",
       "       [-6.00476841e-01,  8.18220743e-01],\n",
       "       [ 1.69126589e+00, -1.92073263e-01],\n",
       "       [ 7.82558907e-01,  1.61895071e-01],\n",
       "       [ 8.09935644e-01,  6.55284027e-01],\n",
       "       [ 1.75501718e+00, -9.75240686e-02],\n",
       "       [ 1.67793482e+00,  1.09910897e-01],\n",
       "       [ 9.64313344e-01,  6.63523045e-01],\n",
       "       [ 2.21280718e-01,  4.66792431e-01],\n",
       "       [ 2.95999716e-01, -2.02207838e-01],\n",
       "       [-2.62271199e-02,  1.34136952e+00],\n",
       "       [ 3.76283025e-01,  8.33886325e-02],\n",
       "       [ 2.06702415e+00,  7.27584391e-01],\n",
       "       [ 7.86333562e-01, -2.18413120e-01],\n",
       "       [ 1.26881541e+00,  1.12194234e+00],\n",
       "       [ 4.03486263e-01,  3.42832314e-01],\n",
       "       [ 2.43329005e+00, -6.30672386e-01],\n",
       "       [ 4.90427861e-01,  1.03529871e+00],\n",
       "       [ 1.72134829e+00,  4.48900230e-02],\n",
       "       [ 8.13296295e-01,  1.25311765e+00],\n",
       "       [ 1.17034590e+00, -7.39981077e-01],\n",
       "       [ 3.97135034e-01, -2.08521165e-01],\n",
       "       [ 1.75093299e+00, -1.91131649e-01],\n",
       "       [ 2.02592445e+00, -1.87300835e-01],\n",
       "       [ 8.52428025e-01, -4.91150319e-01],\n",
       "       [-1.08650955e+00,  7.47556274e-01],\n",
       "       [-1.61508274e-02,  7.17242357e-01],\n",
       "       [-2.33789484e-01,  1.17514814e+00],\n",
       "       [-9.30811481e-01,  1.13884338e-01],\n",
       "       [ 5.35016714e-01, -2.51271433e-01],\n",
       "       [-1.11638599e+00,  5.55941626e-01],\n",
       "       [ 6.90704093e-01, -4.27499556e-01],\n",
       "       [-9.34279548e-01,  4.61776388e-01],\n",
       "       [ 2.72642256e-01,  8.59577785e-01],\n",
       "       [ 1.79167222e-01,  1.04204781e+00],\n",
       "       [ 9.44984842e-01,  1.16331097e-01],\n",
       "       [ 1.03212262e+00, -4.55437931e-02],\n",
       "       [ 2.10605708e-01,  1.03045359e+00],\n",
       "       [-8.46648450e-02, -4.03954849e-01],\n",
       "       [ 8.22544879e-01,  7.23103188e-01],\n",
       "       [ 9.50107912e-01,  5.58209290e-02],\n",
       "       [-5.11339080e-01, -2.96647592e-01],\n",
       "       [-1.10298984e+00, -6.22053877e-01],\n",
       "       [-2.56715152e-01,  9.92659600e-01],\n",
       "       [ 4.43177485e-01,  7.63151027e-01],\n",
       "       [ 1.59395817e-01,  1.47959244e-01],\n",
       "       [-1.26432315e+00,  2.32461420e-01],\n",
       "       [ 1.01022570e+00,  1.64968559e-01],\n",
       "       [ 9.89807526e-01, -7.09054395e-01],\n",
       "       [ 4.32868153e-02, -1.49803384e-01],\n",
       "       [ 1.92485645e+00, -2.18416513e-01],\n",
       "       [ 2.05254042e-01,  1.05319966e+00],\n",
       "       [ 1.19902138e-01,  1.20826761e+00],\n",
       "       [ 1.64501953e-01,  6.26110155e-01],\n",
       "       [ 2.20980672e+00,  4.89421230e-01],\n",
       "       [-2.55426536e-02,  7.97535473e-02],\n",
       "       [ 1.23325333e+00,  3.61025696e-01],\n",
       "       [ 1.09946285e-01,  9.55971095e-01],\n",
       "       [ 9.33280962e-01, -3.43287237e-01],\n",
       "       [ 6.60844755e-01,  7.57272453e-01],\n",
       "       [-7.38379034e-01,  6.23602255e-01],\n",
       "       [-4.33744347e-01,  5.52032061e-01],\n",
       "       [-5.74751006e-01,  6.50152020e-01],\n",
       "       [ 6.70366137e-01,  1.12285599e+00],\n",
       "       [-7.02474245e-01, -3.76555902e-01],\n",
       "       [ 1.17371629e-01,  6.43585345e-01],\n",
       "       [-6.45387778e-01, -2.97551043e-02],\n",
       "       [ 1.43266879e+00, -3.12923954e-01],\n",
       "       [ 1.04205572e+00, -5.02793654e-01],\n",
       "       [-2.47607390e-01,  1.05382440e+00],\n",
       "       [ 1.25121123e+00, -6.68166868e-01],\n",
       "       [ 6.45648759e-01,  7.43170541e-01],\n",
       "       [-7.60383181e-02,  3.09478242e-01],\n",
       "       [ 8.87369592e-03,  1.18820142e+00],\n",
       "       [ 4.67083242e-01, -2.00421923e-02],\n",
       "       [ 1.61819517e+00, -4.13950983e-01],\n",
       "       [-9.01349546e-01,  3.84061431e-01],\n",
       "       [-1.35921989e+00,  2.36854264e-01],\n",
       "       [ 2.46488354e+00,  3.61327073e-01],\n",
       "       [ 3.02707647e-01, -3.78270624e-01],\n",
       "       [ 4.13258319e-01,  1.38732287e+00],\n",
       "       [ 9.96123217e-01, -8.03997360e-01],\n",
       "       [-8.81018288e-01,  5.74917585e-01],\n",
       "       [ 4.04443914e-02, -4.47812464e-01],\n",
       "       [-9.08659696e-01, -1.31039586e-01],\n",
       "       [ 1.30217841e+00, -3.34743329e-01],\n",
       "       [ 9.30857978e-01, -3.61587621e-01],\n",
       "       [ 2.11166189e+00,  2.70144060e-01],\n",
       "       [ 7.07288833e-01, -3.32761498e-01],\n",
       "       [-2.93966767e-01,  6.77284182e-01],\n",
       "       [ 3.68324603e-01,  8.95604757e-01],\n",
       "       [ 1.91518495e+00,  6.04923460e-01],\n",
       "       [ 2.00806403e-02,  9.09225244e-01],\n",
       "       [ 1.84052689e-01,  1.25205180e+00],\n",
       "       [-5.71284575e-01,  8.71120129e-01],\n",
       "       [ 1.47708197e+00, -3.93988636e-01],\n",
       "       [-4.07852195e-02,  1.11522184e+00],\n",
       "       [ 1.05118668e+00,  3.62426103e-01],\n",
       "       [ 1.22820987e+00, -5.76094605e-01],\n",
       "       [-1.78396072e+00, -2.30793397e-02],\n",
       "       [-1.97472248e-02,  3.98729332e-01],\n",
       "       [-1.12961128e-01,  7.20182170e-01],\n",
       "       [ 2.45604300e-01,  1.20195856e+00],\n",
       "       [ 4.56626125e-01,  8.05437490e-01],\n",
       "       [ 1.53222855e-01,  1.91541168e+00],\n",
       "       [ 5.36256694e-01,  6.30389272e-01],\n",
       "       [ 1.20289686e+00,  6.40681480e-01],\n",
       "       [ 1.04968254e+00,  3.69654145e-01],\n",
       "       [ 1.52007138e+00, -7.26871352e-01],\n",
       "       [ 1.14439524e+00,  3.38115515e-03],\n",
       "       [ 8.91547924e-01, -8.30919106e-02],\n",
       "       [ 6.15049394e-04,  6.16169788e-01],\n",
       "       [ 1.32009938e-01, -3.77132267e-02],\n",
       "       [ 1.17408018e+00, -1.29284853e-01],\n",
       "       [ 1.93831380e+00, -1.61542380e-01],\n",
       "       [ 1.49138527e+00, -6.18033341e-01],\n",
       "       [ 1.50192139e+00,  1.92833293e-01],\n",
       "       [ 5.71951748e-01,  6.09587059e-01],\n",
       "       [ 8.29267554e-01, -2.04845012e-02],\n",
       "       [ 3.49732978e-01, -2.56595173e-02],\n",
       "       [ 1.36760424e+00, -7.82588916e-01],\n",
       "       [ 4.87017808e-01,  2.96806873e-01],\n",
       "       [-4.47275716e-01,  1.08466613e+00],\n",
       "       [-5.79911953e-02,  1.48759590e-01],\n",
       "       [ 2.17872946e+00, -5.10972781e-01],\n",
       "       [-7.42733228e-01,  1.35221064e+00],\n",
       "       [-2.90997297e-01,  3.50949925e-01],\n",
       "       [-1.55430958e+00, -2.28121081e-01],\n",
       "       [-4.12572958e-01,  3.75152774e-01],\n",
       "       [-7.03426403e-01,  1.03522588e+00],\n",
       "       [ 1.52945502e+00, -2.88639204e-01],\n",
       "       [ 2.42021229e+00,  2.40119445e-01],\n",
       "       [-5.24507001e-01,  1.28377245e+00],\n",
       "       [-7.74237787e-02,  4.84921157e-01],\n",
       "       [ 1.57637887e+00,  1.46336139e-01],\n",
       "       [ 1.81868457e+00,  9.14361881e-02],\n",
       "       [ 5.58900397e-01, -5.84419280e-01],\n",
       "       [ 1.28619280e+00, -6.78446877e-01],\n",
       "       [ 8.48134369e-01, -9.73370518e-02],\n",
       "       [-6.24277656e-01,  5.31157797e-01],\n",
       "       [ 1.88806863e+00, -2.69752703e-01],\n",
       "       [ 1.80018819e+00,  2.24158811e-01],\n",
       "       [ 1.44678412e+00,  1.86550506e-01],\n",
       "       [ 1.92577854e+00, -4.61938790e-01],\n",
       "       [-4.05072186e-02, -2.49402476e-01],\n",
       "       [-7.27923730e-01,  1.26581762e+00],\n",
       "       [ 1.44865164e+00, -5.43555325e-01],\n",
       "       [ 7.49218238e-01, -7.14654181e-01],\n",
       "       [-9.11635058e-01, -9.81924211e-02],\n",
       "       [ 2.08322196e+00,  2.81347546e-01],\n",
       "       [-9.32400302e-01, -3.72091781e-01],\n",
       "       [ 1.96701749e-01,  1.11469674e+00],\n",
       "       [ 1.04607575e+00, -3.00926591e-01],\n",
       "       [ 1.13425286e+00,  4.43077256e-01],\n",
       "       [-9.24720385e-01,  1.47482296e-01],\n",
       "       [ 2.11739760e+00,  2.65220926e-01],\n",
       "       [ 2.53577505e+00,  3.69462951e-01],\n",
       "       [-2.50170938e-01,  6.04207786e-01],\n",
       "       [-4.95060510e-01,  3.33488219e-01],\n",
       "       [-5.48072838e-01,  1.10637129e+00],\n",
       "       [ 4.97073553e-04, -1.12249982e-02],\n",
       "       [ 6.27630785e-01,  5.34725083e-01],\n",
       "       [-3.95187908e-01,  8.78158002e-01],\n",
       "       [-4.23610873e-01, -1.71955694e-01],\n",
       "       [-8.77999685e-01,  6.21802727e-01],\n",
       "       [ 7.20145593e-02,  6.49974132e-01],\n",
       "       [-8.76032647e-01,  3.36491612e-01],\n",
       "       [ 5.83307194e-01,  9.26238352e-01],\n",
       "       [ 1.91525296e+00,  3.55455472e-02],\n",
       "       [ 1.18653281e-01,  1.11835968e+00],\n",
       "       [ 1.60510662e+00,  1.18280540e-01],\n",
       "       [ 8.97725721e-01,  1.13148617e+00],\n",
       "       [ 3.10814015e-01,  8.58514589e-01],\n",
       "       [ 1.96158462e+00, -5.48203468e-01],\n",
       "       [ 1.88242606e+00, -3.31015457e-01],\n",
       "       [-4.24435818e-01,  5.30222499e-01],\n",
       "       [ 9.70931191e-01,  7.19783285e-01],\n",
       "       [ 7.24303698e-02,  1.33189766e-01],\n",
       "       [ 1.27992750e+00,  2.65928376e-02],\n",
       "       [ 7.00201745e-01,  4.95080764e-01],\n",
       "       [ 2.39717756e+00,  5.68127693e-01],\n",
       "       [ 1.93204703e+00,  1.04176960e-01],\n",
       "       [ 1.43857803e+00, -6.11311408e-01],\n",
       "       [ 9.96604228e-01,  3.43727712e-01],\n",
       "       [ 1.42815458e+00, -6.05620506e-02],\n",
       "       [ 1.14787722e+00, -7.39517800e-02],\n",
       "       [ 1.07469192e+00,  4.95524510e-01],\n",
       "       [ 7.39402262e-01, -2.65175713e-01],\n",
       "       [ 8.69738873e-01,  3.32977245e-01],\n",
       "       [ 1.80836288e+00, -9.40841756e-01],\n",
       "       [-2.99060764e-01, -2.79279665e-02],\n",
       "       [-9.60094136e-01,  6.25720192e-01],\n",
       "       [ 2.23346045e+00, -1.81989502e-02],\n",
       "       [ 6.10527192e-01,  1.10907174e+00],\n",
       "       [-1.66969566e-01, -1.98455684e-01],\n",
       "       [-4.13084840e-01,  8.62024372e-01],\n",
       "       [-7.35775388e-01,  2.87964131e-01],\n",
       "       [ 1.31189693e+00, -4.82652026e-01],\n",
       "       [ 2.89337873e-01,  2.32505327e-01],\n",
       "       [ 1.25045812e+00,  3.78639218e-01],\n",
       "       [-1.03162435e+00,  2.33370104e-01],\n",
       "       [ 2.85108024e-01, -3.71598426e-01],\n",
       "       [-6.78790952e-01,  4.81280985e-01],\n",
       "       [-6.24191538e-02,  1.03619031e+00],\n",
       "       [ 1.19858548e+00,  2.89674595e-01],\n",
       "       [-3.54320806e-01,  6.63902240e-01],\n",
       "       [-1.17084237e+00,  4.87503097e-01],\n",
       "       [-2.07837930e-01,  4.14802562e-01],\n",
       "       [ 4.87340463e-01,  3.39575902e-01],\n",
       "       [-1.86730232e-01,  5.98295323e-01],\n",
       "       [-8.79746719e-01,  1.19972097e-01],\n",
       "       [ 1.44416155e+00,  8.21483501e-02],\n",
       "       [ 1.90277148e+00,  1.25192504e-01],\n",
       "       [ 2.04675004e+00,  4.47558372e-01],\n",
       "       [-8.90241769e-01,  7.48529896e-01],\n",
       "       [-1.32524425e+00,  7.30355623e-01],\n",
       "       [ 6.23138804e-01,  6.42360961e-01],\n",
       "       [ 2.04949877e+00,  1.23422267e-02],\n",
       "       [ 2.32949958e+00,  1.20340153e-01],\n",
       "       [ 5.35519668e-01, -3.55484308e-01],\n",
       "       [ 7.38986486e-01, -7.51130069e-01],\n",
       "       [-1.27039696e+00,  9.00378174e-01],\n",
       "       [ 6.70885401e-01,  9.26242368e-01],\n",
       "       [ 1.96785516e-01,  1.40880556e+00],\n",
       "       [ 2.32301063e-01, -1.16325888e-01],\n",
       "       [-9.65408666e-03,  1.43065172e+00],\n",
       "       [ 9.14979331e-01, -1.50586752e-01],\n",
       "       [-2.18811525e-01,  8.31262722e-01],\n",
       "       [ 1.77255275e+00, -1.17965949e-01],\n",
       "       [ 1.17643627e+00,  6.35708795e-01],\n",
       "       [-2.44065876e-01,  7.81987509e-01],\n",
       "       [ 3.01901412e-01,  1.38967010e-01],\n",
       "       [-7.90406960e-01,  3.19277696e-01],\n",
       "       [-6.00824253e-01,  5.37001748e-01],\n",
       "       [ 8.21090898e-01, -4.16931130e-01],\n",
       "       [-5.23073604e-01,  1.12474627e+00],\n",
       "       [ 1.52883072e+00, -2.86897540e-01],\n",
       "       [ 2.03560202e-01,  6.83032771e-01],\n",
       "       [-1.45412005e+00,  2.99865762e-01],\n",
       "       [-1.10958985e-01,  7.31300972e-01],\n",
       "       [ 7.83995126e-01, -7.47685932e-01],\n",
       "       [ 3.46789412e-01, -4.87875726e-01],\n",
       "       [ 1.28139792e+00, -1.60663967e-01],\n",
       "       [ 2.19785592e-01,  1.15735542e+00],\n",
       "       [-1.62677924e-01,  9.38874064e-01],\n",
       "       [-9.18409915e-01,  8.51202539e-01],\n",
       "       [-2.66395941e-01,  7.97813329e-01],\n",
       "       [ 2.15780000e-01,  7.61915376e-01],\n",
       "       [-7.31711125e-01,  4.30133722e-01],\n",
       "       [-5.10607698e-01,  8.32696232e-01],\n",
       "       [ 5.44123023e-01, -2.69052625e-01],\n",
       "       [ 1.18937921e+00, -6.91747313e-01],\n",
       "       [ 2.45833408e-01,  2.31841903e-01],\n",
       "       [-4.07716298e-02, -1.54299291e-01],\n",
       "       [ 7.19252146e-01,  1.26526541e+00],\n",
       "       [-1.10402750e+00,  1.09278521e-01],\n",
       "       [-8.36901880e-01,  2.71484420e-01],\n",
       "       [ 2.17378768e-01,  7.89081864e-01],\n",
       "       [ 1.84910341e-01, -5.67210622e-03],\n",
       "       [ 1.32886279e+00, -3.73657186e-01],\n",
       "       [ 7.95804922e-01, -7.79963823e-01],\n",
       "       [ 5.77330971e-01,  4.95881190e-01],\n",
       "       [ 2.03515021e+00,  2.02896676e-01],\n",
       "       [ 9.08093537e-01,  7.13952214e-02],\n",
       "       [ 1.62372586e+00, -1.18811920e-01],\n",
       "       [-9.66837286e-02, -6.99754927e-01],\n",
       "       [ 1.12891103e+00,  4.27153561e-01],\n",
       "       [-1.21627436e+00,  9.91844384e-01],\n",
       "       [ 4.67755349e-01,  9.84334372e-01],\n",
       "       [ 1.72818972e-01, -1.58948967e-01],\n",
       "       [ 1.77927815e+00,  2.51789050e-01],\n",
       "       [-2.22283465e-01,  7.04777789e-01],\n",
       "       [ 1.63152712e+00, -2.38977049e-01],\n",
       "       [ 1.32980454e+00, -3.59136598e-01],\n",
       "       [ 8.33155153e-01,  3.60217082e-01],\n",
       "       [-5.35677066e-01,  3.87867777e-01],\n",
       "       [ 2.61783885e-02, -3.45199478e-01],\n",
       "       [ 1.21715995e+00,  3.21329713e-01],\n",
       "       [ 2.16681672e-01,  5.04338593e-01],\n",
       "       [ 6.19283155e-01, -3.15339562e-01],\n",
       "       [ 7.50655034e-01,  1.09224942e-01],\n",
       "       [ 5.76163408e-01, -3.60026366e-01],\n",
       "       [-7.68507317e-01,  1.51965938e+00],\n",
       "       [ 1.04024875e-01,  1.27730381e+00],\n",
       "       [ 1.64719174e+00,  6.15109894e-01],\n",
       "       [ 8.45008486e-01, -1.05079226e-01],\n",
       "       [-4.34665081e-01,  1.01659769e+00],\n",
       "       [ 1.17007488e+00,  1.14474508e+00],\n",
       "       [ 5.23244756e-01, -5.70290523e-01],\n",
       "       [-8.98239628e-01, -1.06953020e-01],\n",
       "       [ 2.42420750e+00,  3.54651779e-01],\n",
       "       [ 8.87663430e-01,  7.63003285e-01],\n",
       "       [-9.14557173e-01,  8.03935950e-03],\n",
       "       [-8.26925529e-01,  9.91957910e-01],\n",
       "       [ 1.47679429e+00, -1.06029931e-01],\n",
       "       [ 2.13860042e-01,  6.94778633e-01],\n",
       "       [ 3.37978755e-01,  2.05559216e-01],\n",
       "       [-4.40135476e-01,  9.37042324e-01],\n",
       "       [-7.03243224e-01,  6.65245309e-01],\n",
       "       [ 6.93929521e-01,  8.14207434e-01],\n",
       "       [ 1.45483435e+00, -4.48586692e-01],\n",
       "       [-6.02258680e-01,  9.22868841e-01],\n",
       "       [ 1.16042053e+00, -3.44722803e-01],\n",
       "       [ 1.42754927e+00, -1.75882557e-01],\n",
       "       [-6.76497232e-03,  4.69799405e-01],\n",
       "       [ 9.49129743e-02,  8.91415664e-01],\n",
       "       [-6.40786413e-01,  8.66102589e-01],\n",
       "       [-7.15171990e-01,  1.83265918e-01],\n",
       "       [ 1.94819951e+00,  6.44953769e-01],\n",
       "       [ 5.04322760e-01,  4.21384642e-01],\n",
       "       [-1.20282449e-01,  6.78687290e-01],\n",
       "       [ 5.91947883e-01,  2.03707321e-01],\n",
       "       [ 1.41559393e+00, -6.90057951e-01],\n",
       "       [-1.00156060e+00,  3.47325046e-01],\n",
       "       [ 3.90495572e-01, -1.40100929e-01],\n",
       "       [ 9.50685034e-01,  5.35674037e-01],\n",
       "       [-6.21432721e-01,  5.36700029e-01],\n",
       "       [ 3.25876773e-01,  1.99892248e-01],\n",
       "       [ 6.73466842e-01,  3.49513025e-01],\n",
       "       [-2.10907540e-01,  6.08522841e-01],\n",
       "       [ 9.19507335e-01, -2.95723598e-01],\n",
       "       [ 6.04094508e-01,  8.97373826e-01],\n",
       "       [ 4.93976157e-01, -2.10593487e-01],\n",
       "       [-3.72452467e-01,  3.99133732e-01],\n",
       "       [ 1.21554755e+00,  9.96217900e-01],\n",
       "       [ 8.89423078e-01,  1.04477338e+00],\n",
       "       [ 4.19640124e-01,  1.20964771e-01],\n",
       "       [ 1.84155604e-01,  1.44722175e-01],\n",
       "       [ 6.68141168e-01,  9.80858951e-03],\n",
       "       [ 2.30062945e+00,  1.62634783e-01],\n",
       "       [ 1.13734616e+00,  5.07319644e-01],\n",
       "       [ 3.83328081e-01, -8.44061208e-01],\n",
       "       [ 1.32364425e+00, -8.35449832e-01],\n",
       "       [ 2.07560727e+00,  2.19481087e-01],\n",
       "       [ 5.81424817e-01,  1.01020170e-01],\n",
       "       [-1.82212059e-01,  6.03072664e-01],\n",
       "       [ 1.25182824e+00,  3.58158264e-03],\n",
       "       [ 9.61728680e-02,  3.63273449e-01],\n",
       "       [ 1.87730987e+00, -4.42542413e-01],\n",
       "       [-9.62591297e-01,  4.08616071e-01],\n",
       "       [-3.69687153e-01,  3.67025192e-02],\n",
       "       [-1.00158420e+00,  3.40387029e-01],\n",
       "       [ 5.88458864e-01, -1.20367132e-01],\n",
       "       [ 9.85422301e-01, -1.81452304e-01],\n",
       "       [ 2.33580839e-01,  5.31998877e-02],\n",
       "       [ 5.16741067e-01,  2.23691727e-01],\n",
       "       [ 5.09915313e-01,  7.01208933e-02],\n",
       "       [ 8.47486048e-01, -1.13070423e-01],\n",
       "       [ 8.14811591e-02, -4.24917966e-01],\n",
       "       [ 7.45920092e-01,  1.40283556e-01],\n",
       "       [ 1.74248155e+00,  3.05914518e-01],\n",
       "       [-5.23744304e-02,  1.01983634e+00],\n",
       "       [ 4.67746880e-01,  1.52310494e+00],\n",
       "       [ 7.36097871e-01, -1.10868320e+00],\n",
       "       [-1.38115110e+00,  5.94510275e-01],\n",
       "       [-5.41008676e-01,  4.49324621e-01],\n",
       "       [ 7.31586867e-01,  6.27398993e-01],\n",
       "       [ 6.87886233e-01,  2.12772239e-01],\n",
       "       [ 1.10090395e+00, -7.66131160e-01],\n",
       "       [ 1.40806027e+00, -5.57126941e-01],\n",
       "       [-6.91428500e-01,  1.30340738e+00],\n",
       "       [ 3.49333395e-01,  6.31733775e-02],\n",
       "       [ 1.34814506e+00, -3.06622466e-01],\n",
       "       [ 2.14338000e+00,  8.83520687e-02],\n",
       "       [ 1.19618175e+00, -9.92344772e-02],\n",
       "       [ 7.27827166e-01, -7.27730359e-01],\n",
       "       [-2.09584404e-01,  6.34822781e-01],\n",
       "       [-3.93030268e-01,  5.18771579e-01],\n",
       "       [-6.52809528e-01,  3.79966157e-01],\n",
       "       [-2.91198153e-01,  1.80360500e-01],\n",
       "       [ 1.07553332e+00, -8.08873674e-01],\n",
       "       [-1.02835676e+00,  3.37409118e-01],\n",
       "       [ 9.89495750e-01,  6.92065328e-01],\n",
       "       [ 1.81490293e+00, -1.24119833e-01],\n",
       "       [-6.27855688e-02,  8.40948980e-01],\n",
       "       [ 2.48258503e-01,  6.93770508e-01],\n",
       "       [ 1.76646864e+00, -4.90393585e-01],\n",
       "       [ 5.34216749e-01, -3.63062617e-01],\n",
       "       [-6.10413802e-02,  1.61032077e+00],\n",
       "       [-8.30119971e-01,  7.20863798e-01],\n",
       "       [ 1.45551436e+00,  1.42291658e-01],\n",
       "       [ 1.37586382e-01,  1.70636855e-01],\n",
       "       [ 9.63084207e-01,  3.49864182e-01],\n",
       "       [ 1.32742913e+00, -4.27842661e-01],\n",
       "       [-9.61064231e-01,  2.88780336e-01],\n",
       "       [ 1.11624869e+00,  5.63487731e-01]])"
      ]
     },
     "execution_count": 3,
     "metadata": {},
     "output_type": "execute_result"
    }
   ],
   "source": [
    "X"
   ]
  },
  {
   "cell_type": "code",
   "execution_count": 4,
   "metadata": {},
   "outputs": [
    {
     "data": {
      "text/plain": [
       "Text(0, 0.5, 'feature 2')"
      ]
     },
     "execution_count": 4,
     "metadata": {},
     "output_type": "execute_result"
    },
    {
     "data": {
      "image/png": "[encoded data removed]",
      "text/plain": [
       "<Figure size 432x288 with 1 Axes>"
      ]
     },
     "metadata": {
      "needs_background": "light"
     },
     "output_type": "display_data"
    }
   ],
   "source": [
    "# Plot the data, color by class\n",
    "plt.scatter(X[y == 1, 0], X[y == 1, 1], color=\"DarkBlue\", marker=\"s\",label=\"class 1\")\n",
    "plt.scatter(X[y == 0, 0], X[y == 0, 1], color=\"DarkRed\", marker=\"o\",label=\"class 2\")\n",
    "plt.legend()\n",
    "plt.title('Two Moons Dataset')\n",
    "plt.xlabel('feature 1')\n",
    "plt.ylabel('feature 2')"
   ]
  },
  {
   "cell_type": "markdown",
   "metadata": {},
   "source": [
    "## Question 1 [5 points] Data Preparing\n",
    "\n",
    "The data set is clean and scaled. **X** is the array of two features and **y** is the one of predictor variable. \n",
    "\n",
    "\n",
    "Split the data to train set (70%) and test set (30%) and allow the random selection. "
   ]
  },
  {
   "cell_type": "code",
   "execution_count": 5,
   "metadata": {},
   "outputs": [],
   "source": [
    "from sklearn.model_selection import train_test_split\n",
    "X_train, X_test, y_train, y_test = train_test_split (X, y, test_size = 0.3, random_state=42)"
   ]
  },
  {
   "cell_type": "markdown",
   "metadata": {},
   "source": [
    "## Question 2 [15 points] Applying Linear SVM\n",
    "1. Create a linear SVM model called **svm_linear** and train it by the train set. \n",
    "2. Apply the test set to test the model and print the accurancy."
   ]
  },
  {
   "cell_type": "code",
   "execution_count": 6,
   "metadata": {},
   "outputs": [
    {
     "data": {
      "text/plain": [
       "SVC(C=1.0, cache_size=200, class_weight=None, coef0=0.0,\n",
       "    decision_function_shape='ovr', degree=3, gamma='auto_deprecated',\n",
       "    kernel='linear', max_iter=-1, probability=False, random_state=None,\n",
       "    shrinking=True, tol=0.001, verbose=False)"
      ]
     },
     "execution_count": 6,
     "metadata": {},
     "output_type": "execute_result"
    }
   ],
   "source": [
    "from sklearn import svm \n",
    "svm_linear = svm.SVC(kernel = 'linear')\n",
    "svm_linear.fit(X_train, y_train)"
   ]
  },
  {
   "cell_type": "code",
   "execution_count": 7,
   "metadata": {},
   "outputs": [
    {
     "data": {
      "text/plain": [
       "0.8533333333333334"
      ]
     },
     "execution_count": 7,
     "metadata": {},
     "output_type": "execute_result"
    }
   ],
   "source": [
    "svm_linear.score(X_test, y_test)"
   ]
  },
  {
   "cell_type": "markdown",
   "metadata": {},
   "source": [
    "### Plot the results\n",
    "You could use the following code to indicate the split of SVM linear model."
   ]
  },
  {
   "cell_type": "code",
   "execution_count": 8,
   "metadata": {},
   "outputs": [
    {
     "data": {
      "text/plain": [
       "<matplotlib.contour.QuadContourSet at 0x1eb405cd748>"
      ]
     },
     "execution_count": 8,
     "metadata": {},
     "output_type": "execute_result"
    },
    {
     "data": {
      "image/png": "[encoded data removed]",
      "text/plain": [
       "<Figure size 432x288 with 1 Axes>"
      ]
     },
     "metadata": {
      "needs_background": "light"
     },
     "output_type": "display_data"
    }
   ],
   "source": [
    "\n",
    "#Get the range of the features\n",
    "x_min, x_max = X[:,0].min()-1, X[:, 0].max()+1\n",
    "y_min, y_max = X[:, 1].min()-1, X[:, 1].max()+1\n",
    "\n",
    "#Create 200 values of the two features between the ranges above.\n",
    "xx, yy = np.meshgrid(np.linspace(x_min, x_max, 200),np.linspace(y_min, y_max, 200))\n",
    "\n",
    "#Given the 200 value pairs of the features, predict the classes using the model \n",
    "zz = svm_linear.predict(np.c_[xx.ravel(), yy.ravel()]).reshape(xx.shape)\n",
    "\n",
    "#Draw the scatter plot to show the 'two moons' dataset\n",
    "plt.scatter(X[y == 1, 0], X[y == 1, 1], color=\"DarkBlue\", marker=\"s\",label=\"class 1\")\n",
    "plt.scatter(X[y == 0, 0], X[y == 0, 1], color=\"DarkRed\", marker=\"o\",label=\"class 2\")\n",
    "\n",
    "#Plot the prediction made by the model using the contour plot \n",
    "plt.contour(xx, yy, zz, colors=\"black\", alpha=1, linewidths=0.2) \n",
    "#plt.contourf(xx,yy,z,2,alpha=0.2, linewidths=0.2)"
   ]
  },
  {
   "cell_type": "code",
   "execution_count": 11,
   "metadata": {},
   "outputs": [
    {
     "data": {
      "text/plain": [
       "(200, 200)"
      ]
     },
     "execution_count": 11,
     "metadata": {},
     "output_type": "execute_result"
    }
   ],
   "source": [
    "xx.shape"
   ]
  },
  {
   "cell_type": "markdown",
   "metadata": {},
   "source": [
    "## Question 3 [15 points] Applying SVM with Kernel Trick\n",
    "1. Create a SVM model called **svm_kernel** and train it by the train set. \n",
    "2. Apply the test set to test the model and print the accurancy."
   ]
  },
  {
   "cell_type": "code",
   "execution_count": 14,
   "metadata": {},
   "outputs": [
    {
     "name": "stderr",
     "output_type": "stream",
     "text": [
      "C:\\Users\\illow\\Anaconda3\\lib\\site-packages\\sklearn\\svm\\base.py:193: FutureWarning: The default value of gamma will change from 'auto' to 'scale' in version 0.22 to account better for unscaled features. Set gamma explicitly to 'auto' or 'scale' to avoid this warning.\n",
      "  \"avoid this warning.\", FutureWarning)\n"
     ]
    },
    {
     "data": {
      "text/plain": [
       "SVC(C=1.0, cache_size=200, class_weight=None, coef0=0.0,\n",
       "    decision_function_shape='ovr', degree=3, gamma='auto_deprecated',\n",
       "    kernel='rbf', max_iter=-1, probability=False, random_state=None,\n",
       "    shrinking=True, tol=0.001, verbose=False)"
      ]
     },
     "execution_count": 14,
     "metadata": {},
     "output_type": "execute_result"
    }
   ],
   "source": [
    "from sklearn import svm \n",
    "svm_kernal = svm.SVC(kernel = 'rbf')\n",
    "svm_kernal.fit(X_train, y_train)"
   ]
  },
  {
   "cell_type": "code",
   "execution_count": 15,
   "metadata": {},
   "outputs": [
    {
     "data": {
      "text/plain": [
       "0.8866666666666667"
      ]
     },
     "execution_count": 15,
     "metadata": {},
     "output_type": "execute_result"
    }
   ],
   "source": [
    "svm_kernal.score(X_test, y_test)"
   ]
  },
  {
   "cell_type": "markdown",
   "metadata": {},
   "source": [
    "### Plot the results\n",
    "You could use the following code to indicate the split of SVM model with kernel trick."
   ]
  },
  {
   "cell_type": "code",
   "execution_count": null,
   "metadata": {},
   "outputs": [],
   "source": [
    "#Get the range of the features\n",
    "x_min, x_max = X[:,0].min()-1, X[:, 0].max()+1\n",
    "y_min, y_max = X[:, 1].min()-1, X[:, 1].max()+1\n",
    "\n",
    "#Create 200 values of the two features between the ranges above.\n",
    "xx, yy = np.meshgrid(np.linspace(x_min, x_max, 200),np.linspace(y_min, y_max, 200))\n",
    "\n",
    "#Given the 200 value pairs of the features, predict the classes using the model\n",
    "zz = svm_kernel.predict(np.c_[xx.ravel(), yy.ravel()]).reshape(xx.shape)\n",
    "\n",
    "#Draw the scatter plot to show the 'two moons' dataset\n",
    "plt.scatter(X[y == 1, 0], X[y == 1, 1], color=\"DarkBlue\", marker=\"s\",label=\"class 1\")\n",
    "plt.scatter(X[y == 0, 0], X[y == 0, 1], color=\"DarkRed\", marker=\"o\",label=\"class 2\")\n",
    "plt.contour(xx, yy, zz, colors=\"black\", alpha=1, linewidths=0.2) "
   ]
  },
  {
   "cell_type": "markdown",
   "metadata": {},
   "source": [
    "## Question 4 [15 points] Tuning Hyperparameter of SVM\n",
    "1. Create 10 candidant values of the hyperparameter **C** and **gamma** in the range of:\n",
    "\n",
    "  1) **C**: 0.0001 to 100 \n",
    "  \n",
    "  2) **gamma**: the value of **C**/number_of_samples_in_train_set\n",
    "  \n",
    "  \n",
    "  \n",
    "2. Apply Grid Search to **svm_kernel** with 10-fold cross validation and find the best values of **C** and **gamma**.\n"
   ]
  },
  {
   "cell_type": "code",
   "execution_count": null,
   "metadata": {},
   "outputs": [],
   "source": [
    "from sklearn.model_selection import cross_val_score\n",
    "from sklearn.model_selection import GridSearchCV\n",
    "\n",
    "param_grid = {\"C\":np.logspace(-4,3,20),\n",
    "              \"gamma\":np.logspace(-4,3,20)/X_train.shape[1]}\n",
    "\n",
    "grid = GridSearchCV(svm_kernal, param_grid=param_grid, cv=10)\n",
    "\n",
    "grid.fit(X_train, y_train)\n"
   ]
  },
  {
   "cell_type": "code",
   "execution_count": null,
   "metadata": {},
   "outputs": [],
   "source": [
    "print(grid.best_params_)\n",
    "print(grid.score(X_test, y_test))\n",
    "best_C = grid.best_params_['C']\n",
    "best_gamma=grid.best_parmas_['gamma']"
   ]
  }
 ],
 "metadata": {
  "kernelspec": {
   "display_name": "Python 3",
   "language": "python",
   "name": "python3"
  },
  "language_info": {
   "codemirror_mode": {
    "name": "ipython",
    "version": 3
   },
   "file_extension": ".py",
   "mimetype": "text/x-python",
   "name": "python",
   "nbconvert_exporter": "python",
   "pygments_lexer": "ipython3",
   "version": "3.7.4"
  }
 },
 "nbformat": 4,
 "nbformat_minor": 2
}
